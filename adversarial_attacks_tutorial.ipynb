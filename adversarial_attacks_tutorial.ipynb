{
  "nbformat": 4,
  "nbformat_minor": 0,
  "metadata": {
    "colab": {
      "name": "adversarial-attacks-tutorial.ipynb",
      "provenance": [],
      "authorship_tag": "ABX9TyNPUVjbb84KeASU+VDEH6v4",
      "include_colab_link": true
    },
    "kernelspec": {
      "name": "python3",
      "display_name": "Python 3"
    },
    "language_info": {
      "name": "python"
    },
    "accelerator": "GPU"
  },
  "cells": [
    {
      "cell_type": "markdown",
      "metadata": {
        "id": "view-in-github",
        "colab_type": "text"
      },
      "source": [
        "<a href=\"https://colab.research.google.com/github/jalane76/adversarial-attacks-tutorial/blob/main/adversarial_attacks_tutorial.ipynb\" target=\"_parent\"><img src=\"https://colab.research.google.com/assets/colab-badge.svg\" alt=\"Open In Colab\"/></a>"
      ]
    },
    {
      "cell_type": "code",
      "metadata": {
        "id": "SxhLpaMAl5QJ"
      },
      "source": [
        "! pip install adversarial-robustness-toolbox"
      ],
      "execution_count": null,
      "outputs": []
    },
    {
      "cell_type": "code",
      "metadata": {
        "id": "LtTFhkbNaZiF"
      },
      "source": [
        "from art.attacks.evasion import FastGradientMethod\n",
        "from art.estimators.classification import PyTorchClassifier\n",
        "from art.utils import load_mnist\n",
        "import matplotlib\n",
        "from matplotlib.colors import TwoSlopeNorm\n",
        "import matplotlib.pyplot as plt\n",
        "import numpy as np\n",
        "import torch\n",
        "import torch.nn as nn\n",
        "import torch.nn.functional as F\n",
        "import torch.optim as optim"
      ],
      "execution_count": null,
      "outputs": []
    },
    {
      "cell_type": "code",
      "metadata": {
        "id": "Mawb8Gm0bMpK"
      },
      "source": [
        "# Set up\n",
        "#rand_seed = 978614566\n",
        "#np.random.seed(rand_seed)\n",
        "#torch.manual_seed(rand_seed)\n",
        "\n",
        "image_width = 28\n",
        "image_height = 28\n",
        "input_shape = (1, 28, 28)\n",
        "\n",
        "batch_size = 64\n",
        "num_epochs = 10\n",
        "num_labels = 10"
      ],
      "execution_count": null,
      "outputs": []
    },
    {
      "cell_type": "code",
      "metadata": {
        "id": "pYKWIf5lbiqi"
      },
      "source": [
        " # Load data\n",
        "(\n",
        "  (x_train, y_train),\n",
        "  (x_test, y_test),\n",
        "  min_pixel_value,\n",
        "  max_pixel_value,\n",
        ") = load_mnist()\n",
        "\n",
        "clip_values = (min_pixel_value, max_pixel_value)\n",
        "\n",
        " # Swap axes to PyTorch's NCHW format\n",
        "x_train = np.transpose(x_train, (0, 3, 1, 2)).astype(np.float32)\n",
        "x_test = np.transpose(x_test, (0, 3, 1, 2)).astype(np.float32)\n",
        "\n",
        "print(f\"{x_train.shape} training data shape\")\n",
        "print(f\"{x_test.shape} test data shape\")\n"
      ],
      "execution_count": null,
      "outputs": []
    },
    {
      "cell_type": "code",
      "metadata": {
        "id": "jbd2S9gDh9cg"
      },
      "source": [
        "# Let's see the first few training samples\n",
        "num_samples = 5\n",
        "num_rows = 1\n",
        "\n",
        "fig, axes = plt.subplots(num_rows, num_samples, sharex=True, sharey=True, squeeze=False)\n",
        "fig.set_figheight(4.0 * num_rows)\n",
        "fig.set_figwidth(4.0 * num_samples)\n",
        "for sample_idx in range(num_samples):\n",
        "  sample_axis = axes[0, sample_idx]\n",
        "  sample = x_train[sample_idx, 0, :, :]\n",
        "  sample_axis.imshow(\n",
        "    sample, aspect=\"equal\", interpolation=\"nearest\"\n",
        "  )"
      ],
      "execution_count": null,
      "outputs": []
    },
    {
      "cell_type": "code",
      "metadata": {
        "id": "wO79crGufkoE"
      },
      "source": [
        "# Define model\n",
        "class Net(nn.Module):\n",
        "  def __init__(self):\n",
        "    super(Net, self).__init__()\n",
        "    self.conv_1 = nn.Conv2d(in_channels=1, out_channels=4, kernel_size=5, stride=1)\n",
        "    self.conv_2 = nn.Conv2d(in_channels=4, out_channels=10, kernel_size=5, stride=1)\n",
        "    self.fc_1 = nn.Linear(in_features=4 * 4 * 10, out_features=100)\n",
        "    self.fc_2 = nn.Linear(in_features=100, out_features=10)\n",
        "\n",
        "  def forward(self, x):\n",
        "    x = F.relu(self.conv_1(x))\n",
        "    x = F.max_pool2d(x, 2, 2)\n",
        "    x = F.relu(self.conv_2(x))\n",
        "    x = F.max_pool2d(x, 2, 2)\n",
        "    x = x.view(-1, 4 * 4 * 10)\n",
        "    x = F.relu(self.fc_1(x))\n",
        "    x = self.fc_2(x)\n",
        "    return x\n",
        "\n",
        "model = Net()\n",
        "\n",
        "criterion = nn.CrossEntropyLoss()\n",
        "optimizer = optim.Adam(model.parameters(), lr=0.01)\n",
        "\n",
        "# Make ART classifier\n",
        "classifier = PyTorchClassifier(\n",
        "  model=model,\n",
        "  clip_values=clip_values,\n",
        "  loss=criterion,\n",
        "  optimizer=optimizer,\n",
        "  input_shape=(input_shape),\n",
        "  nb_classes=num_labels,\n",
        ")"
      ],
      "execution_count": null,
      "outputs": []
    },
    {
      "cell_type": "code",
      "metadata": {
        "id": "j0yZo7Tk_mVe"
      },
      "source": [
        "# Train classifier\n",
        "classifier.fit(x_train, y_train, batch_size=batch_size, nb_epochs=num_epochs)"
      ],
      "execution_count": null,
      "outputs": []
    },
    {
      "cell_type": "code",
      "metadata": {
        "id": "Ko38ysEUD2rr"
      },
      "source": [
        "# Test accuracy on benign samples\n",
        "predictions = classifier.predict(x_test)\n",
        "accuracy = np.sum(np.argmax(predictions, axis=1) == np.argmax(y_test, axis=1)) / len(y_test)\n",
        "print(f\"Benign accuracy: {accuracy * 100}%\")"
      ],
      "execution_count": null,
      "outputs": []
    },
    {
      "cell_type": "code",
      "metadata": {
        "id": "YvEKpttzHhd6"
      },
      "source": [
        "# Generate FGSM attacks\n",
        "attack = FastGradientMethod(estimator=classifier, eps=0.2)\n",
        "x_test_adv = attack.generate(x=x_test)"
      ],
      "execution_count": null,
      "outputs": []
    },
    {
      "cell_type": "code",
      "metadata": {
        "id": "ibQv0_T1KdUT"
      },
      "source": [
        "# Let's compare the first benign and adversarial samples\n",
        "num_samples = 5\n",
        "num_rows = 2\n",
        "\n",
        "fig, axes = plt.subplots(num_rows, num_samples, sharex=True, sharey=True, squeeze=False)\n",
        "fig.set_figheight(4.0 * num_rows)\n",
        "fig.set_figwidth(4.0 * num_samples)\n",
        "for sample_idx in range(num_samples):\n",
        "  sample_axis = axes[0, sample_idx]\n",
        "  sample = x_test[sample_idx, 0, :, :]\n",
        "  sample_axis.imshow(\n",
        "    sample, aspect=\"equal\", interpolation=\"nearest\"\n",
        "  )\n",
        "\n",
        "  evil_twin_axis = axes[1, sample_idx]\n",
        "  evil_twin = x_test_adv[sample_idx, 0, :, :]\n",
        "  evil_twin_axis.imshow(\n",
        "      evil_twin, aspect=\"equal\", interpolation=\"nearest\"\n",
        "  )"
      ],
      "execution_count": null,
      "outputs": []
    },
    {
      "cell_type": "code",
      "metadata": {
        "id": "lFtuuG-QHt2t"
      },
      "source": [
        "# Test accuracy on adversarial samples\n",
        "predictions = classifier.predict(x_test_adv)\n",
        "accuracy = np.sum(np.argmax(predictions, axis=1) == np.argmax(y_test, axis=1)) / len(y_test)\n",
        "print(f\"Adversarial accuracy: {accuracy * 100}%\")"
      ],
      "execution_count": null,
      "outputs": []
    },
    {
      "cell_type": "code",
      "metadata": {
        "id": "76rR93hzOh9t"
      },
      "source": [
        "# Let's augment the training data with adversarial examples and retrain\n",
        "x_train_adv = attack.generate(x=x_train)\n",
        "classifier.fit(x_train_adv, y_train, batch_size=batch_size, nb_epochs=num_epochs)"
      ],
      "execution_count": null,
      "outputs": []
    },
    {
      "cell_type": "code",
      "metadata": {
        "id": "qAPLATqAPwMa"
      },
      "source": [
        "# Retest the accuracy after retraining\n",
        "predictions = classifier.predict(x_test_adv)\n",
        "accuracy = np.sum(np.argmax(predictions, axis=1) == np.argmax(y_test, axis=1)) / len(y_test)\n",
        "print(f\"Retrained accuracy: {accuracy * 100}%\")"
      ],
      "execution_count": null,
      "outputs": []
    }
  ]
}