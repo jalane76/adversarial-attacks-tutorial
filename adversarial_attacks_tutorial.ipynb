{
  "nbformat": 4,
  "nbformat_minor": 0,
  "metadata": {
    "colab": {
      "name": "adversarial-attacks-tutorial.ipynb",
      "provenance": [],
      "authorship_tag": "ABX9TyMb38LwljxMZQ3/dEuOlGDP",
      "include_colab_link": true
    },
    "kernelspec": {
      "name": "python3",
      "display_name": "Python 3"
    },
    "language_info": {
      "name": "python"
    }
  },
  "cells": [
    {
      "cell_type": "markdown",
      "metadata": {
        "id": "view-in-github",
        "colab_type": "text"
      },
      "source": [
        "<a href=\"https://colab.research.google.com/github/jalane76/adversarial-attacks-tutorial/blob/main/adversarial_attacks_tutorial.ipynb\" target=\"_parent\"><img src=\"https://colab.research.google.com/assets/colab-badge.svg\" alt=\"Open In Colab\"/></a>"
      ]
    },
    {
      "cell_type": "code",
      "metadata": {
        "id": "SxhLpaMAl5QJ",
        "colab": {
          "base_uri": "https://localhost:8080/"
        },
        "outputId": "a9989608-1506-4291-9437-1ae7e4d67a79"
      },
      "source": [
        "! pip install adversarial-robustness-toolbox"
      ],
      "execution_count": 2,
      "outputs": [
        {
          "output_type": "stream",
          "name": "stdout",
          "text": [
            "Collecting adversarial-robustness-toolbox\n",
            "  Downloading adversarial_robustness_toolbox-1.8.0-py3-none-any.whl (1.1 MB)\n",
            "\u001b[?25l\r\u001b[K     |▎                               | 10 kB 25.3 MB/s eta 0:00:01\r\u001b[K     |▋                               | 20 kB 27.5 MB/s eta 0:00:01\r\u001b[K     |█                               | 30 kB 21.4 MB/s eta 0:00:01\r\u001b[K     |█▏                              | 40 kB 17.4 MB/s eta 0:00:01\r\u001b[K     |█▌                              | 51 kB 8.2 MB/s eta 0:00:01\r\u001b[K     |█▉                              | 61 kB 7.9 MB/s eta 0:00:01\r\u001b[K     |██▏                             | 71 kB 8.2 MB/s eta 0:00:01\r\u001b[K     |██▍                             | 81 kB 9.1 MB/s eta 0:00:01\r\u001b[K     |██▊                             | 92 kB 9.5 MB/s eta 0:00:01\r\u001b[K     |███                             | 102 kB 7.6 MB/s eta 0:00:01\r\u001b[K     |███▎                            | 112 kB 7.6 MB/s eta 0:00:01\r\u001b[K     |███▋                            | 122 kB 7.6 MB/s eta 0:00:01\r\u001b[K     |████                            | 133 kB 7.6 MB/s eta 0:00:01\r\u001b[K     |████▎                           | 143 kB 7.6 MB/s eta 0:00:01\r\u001b[K     |████▌                           | 153 kB 7.6 MB/s eta 0:00:01\r\u001b[K     |████▉                           | 163 kB 7.6 MB/s eta 0:00:01\r\u001b[K     |█████▏                          | 174 kB 7.6 MB/s eta 0:00:01\r\u001b[K     |█████▍                          | 184 kB 7.6 MB/s eta 0:00:01\r\u001b[K     |█████▊                          | 194 kB 7.6 MB/s eta 0:00:01\r\u001b[K     |██████                          | 204 kB 7.6 MB/s eta 0:00:01\r\u001b[K     |██████▍                         | 215 kB 7.6 MB/s eta 0:00:01\r\u001b[K     |██████▋                         | 225 kB 7.6 MB/s eta 0:00:01\r\u001b[K     |███████                         | 235 kB 7.6 MB/s eta 0:00:01\r\u001b[K     |███████▎                        | 245 kB 7.6 MB/s eta 0:00:01\r\u001b[K     |███████▌                        | 256 kB 7.6 MB/s eta 0:00:01\r\u001b[K     |███████▉                        | 266 kB 7.6 MB/s eta 0:00:01\r\u001b[K     |████████▏                       | 276 kB 7.6 MB/s eta 0:00:01\r\u001b[K     |████████▌                       | 286 kB 7.6 MB/s eta 0:00:01\r\u001b[K     |████████▊                       | 296 kB 7.6 MB/s eta 0:00:01\r\u001b[K     |█████████                       | 307 kB 7.6 MB/s eta 0:00:01\r\u001b[K     |█████████▍                      | 317 kB 7.6 MB/s eta 0:00:01\r\u001b[K     |█████████▋                      | 327 kB 7.6 MB/s eta 0:00:01\r\u001b[K     |██████████                      | 337 kB 7.6 MB/s eta 0:00:01\r\u001b[K     |██████████▎                     | 348 kB 7.6 MB/s eta 0:00:01\r\u001b[K     |██████████▋                     | 358 kB 7.6 MB/s eta 0:00:01\r\u001b[K     |██████████▉                     | 368 kB 7.6 MB/s eta 0:00:01\r\u001b[K     |███████████▏                    | 378 kB 7.6 MB/s eta 0:00:01\r\u001b[K     |███████████▌                    | 389 kB 7.6 MB/s eta 0:00:01\r\u001b[K     |███████████▊                    | 399 kB 7.6 MB/s eta 0:00:01\r\u001b[K     |████████████                    | 409 kB 7.6 MB/s eta 0:00:01\r\u001b[K     |████████████▍                   | 419 kB 7.6 MB/s eta 0:00:01\r\u001b[K     |████████████▊                   | 430 kB 7.6 MB/s eta 0:00:01\r\u001b[K     |█████████████                   | 440 kB 7.6 MB/s eta 0:00:01\r\u001b[K     |█████████████▎                  | 450 kB 7.6 MB/s eta 0:00:01\r\u001b[K     |█████████████▋                  | 460 kB 7.6 MB/s eta 0:00:01\r\u001b[K     |█████████████▉                  | 471 kB 7.6 MB/s eta 0:00:01\r\u001b[K     |██████████████▏                 | 481 kB 7.6 MB/s eta 0:00:01\r\u001b[K     |██████████████▌                 | 491 kB 7.6 MB/s eta 0:00:01\r\u001b[K     |██████████████▉                 | 501 kB 7.6 MB/s eta 0:00:01\r\u001b[K     |███████████████                 | 512 kB 7.6 MB/s eta 0:00:01\r\u001b[K     |███████████████▍                | 522 kB 7.6 MB/s eta 0:00:01\r\u001b[K     |███████████████▊                | 532 kB 7.6 MB/s eta 0:00:01\r\u001b[K     |████████████████                | 542 kB 7.6 MB/s eta 0:00:01\r\u001b[K     |████████████████▎               | 552 kB 7.6 MB/s eta 0:00:01\r\u001b[K     |████████████████▋               | 563 kB 7.6 MB/s eta 0:00:01\r\u001b[K     |█████████████████               | 573 kB 7.6 MB/s eta 0:00:01\r\u001b[K     |█████████████████▏              | 583 kB 7.6 MB/s eta 0:00:01\r\u001b[K     |█████████████████▌              | 593 kB 7.6 MB/s eta 0:00:01\r\u001b[K     |█████████████████▉              | 604 kB 7.6 MB/s eta 0:00:01\r\u001b[K     |██████████████████              | 614 kB 7.6 MB/s eta 0:00:01\r\u001b[K     |██████████████████▍             | 624 kB 7.6 MB/s eta 0:00:01\r\u001b[K     |██████████████████▊             | 634 kB 7.6 MB/s eta 0:00:01\r\u001b[K     |███████████████████             | 645 kB 7.6 MB/s eta 0:00:01\r\u001b[K     |███████████████████▎            | 655 kB 7.6 MB/s eta 0:00:01\r\u001b[K     |███████████████████▋            | 665 kB 7.6 MB/s eta 0:00:01\r\u001b[K     |████████████████████            | 675 kB 7.6 MB/s eta 0:00:01\r\u001b[K     |████████████████████▏           | 686 kB 7.6 MB/s eta 0:00:01\r\u001b[K     |████████████████████▌           | 696 kB 7.6 MB/s eta 0:00:01\r\u001b[K     |████████████████████▉           | 706 kB 7.6 MB/s eta 0:00:01\r\u001b[K     |█████████████████████▏          | 716 kB 7.6 MB/s eta 0:00:01\r\u001b[K     |█████████████████████▍          | 727 kB 7.6 MB/s eta 0:00:01\r\u001b[K     |█████████████████████▊          | 737 kB 7.6 MB/s eta 0:00:01\r\u001b[K     |██████████████████████          | 747 kB 7.6 MB/s eta 0:00:01\r\u001b[K     |██████████████████████▎         | 757 kB 7.6 MB/s eta 0:00:01\r\u001b[K     |██████████████████████▋         | 768 kB 7.6 MB/s eta 0:00:01\r\u001b[K     |███████████████████████         | 778 kB 7.6 MB/s eta 0:00:01\r\u001b[K     |███████████████████████▎        | 788 kB 7.6 MB/s eta 0:00:01\r\u001b[K     |███████████████████████▌        | 798 kB 7.6 MB/s eta 0:00:01\r\u001b[K     |███████████████████████▉        | 808 kB 7.6 MB/s eta 0:00:01\r\u001b[K     |████████████████████████▏       | 819 kB 7.6 MB/s eta 0:00:01\r\u001b[K     |████████████████████████▍       | 829 kB 7.6 MB/s eta 0:00:01\r\u001b[K     |████████████████████████▊       | 839 kB 7.6 MB/s eta 0:00:01\r\u001b[K     |█████████████████████████       | 849 kB 7.6 MB/s eta 0:00:01\r\u001b[K     |█████████████████████████▍      | 860 kB 7.6 MB/s eta 0:00:01\r\u001b[K     |█████████████████████████▋      | 870 kB 7.6 MB/s eta 0:00:01\r\u001b[K     |██████████████████████████      | 880 kB 7.6 MB/s eta 0:00:01\r\u001b[K     |██████████████████████████▎     | 890 kB 7.6 MB/s eta 0:00:01\r\u001b[K     |██████████████████████████▌     | 901 kB 7.6 MB/s eta 0:00:01\r\u001b[K     |██████████████████████████▉     | 911 kB 7.6 MB/s eta 0:00:01\r\u001b[K     |███████████████████████████▏    | 921 kB 7.6 MB/s eta 0:00:01\r\u001b[K     |███████████████████████████▌    | 931 kB 7.6 MB/s eta 0:00:01\r\u001b[K     |███████████████████████████▊    | 942 kB 7.6 MB/s eta 0:00:01\r\u001b[K     |████████████████████████████    | 952 kB 7.6 MB/s eta 0:00:01\r\u001b[K     |████████████████████████████▍   | 962 kB 7.6 MB/s eta 0:00:01\r\u001b[K     |████████████████████████████▋   | 972 kB 7.6 MB/s eta 0:00:01\r\u001b[K     |█████████████████████████████   | 983 kB 7.6 MB/s eta 0:00:01\r\u001b[K     |█████████████████████████████▎  | 993 kB 7.6 MB/s eta 0:00:01\r\u001b[K     |█████████████████████████████▋  | 1.0 MB 7.6 MB/s eta 0:00:01\r\u001b[K     |█████████████████████████████▉  | 1.0 MB 7.6 MB/s eta 0:00:01\r\u001b[K     |██████████████████████████████▏ | 1.0 MB 7.6 MB/s eta 0:00:01\r\u001b[K     |██████████████████████████████▌ | 1.0 MB 7.6 MB/s eta 0:00:01\r\u001b[K     |██████████████████████████████▊ | 1.0 MB 7.6 MB/s eta 0:00:01\r\u001b[K     |███████████████████████████████ | 1.1 MB 7.6 MB/s eta 0:00:01\r\u001b[K     |███████████████████████████████▍| 1.1 MB 7.6 MB/s eta 0:00:01\r\u001b[K     |███████████████████████████████▊| 1.1 MB 7.6 MB/s eta 0:00:01\r\u001b[K     |████████████████████████████████| 1.1 MB 7.6 MB/s eta 0:00:01\r\u001b[K     |████████████████████████████████| 1.1 MB 7.6 MB/s \n",
            "\u001b[?25hRequirement already satisfied: scipy>=1.4.1 in /usr/local/lib/python3.7/dist-packages (from adversarial-robustness-toolbox) (1.4.1)\n",
            "Requirement already satisfied: six in /usr/local/lib/python3.7/dist-packages (from adversarial-robustness-toolbox) (1.15.0)\n",
            "Requirement already satisfied: tqdm in /usr/local/lib/python3.7/dist-packages (from adversarial-robustness-toolbox) (4.62.3)\n",
            "Requirement already satisfied: scikit-learn<0.24.3,>=0.22.2 in /usr/local/lib/python3.7/dist-packages (from adversarial-robustness-toolbox) (0.22.2.post1)\n",
            "Requirement already satisfied: setuptools in /usr/local/lib/python3.7/dist-packages (from adversarial-robustness-toolbox) (57.4.0)\n",
            "Collecting numba~=0.53.1\n",
            "  Downloading numba-0.53.1-cp37-cp37m-manylinux2014_x86_64.whl (3.4 MB)\n",
            "\u001b[K     |████████████████████████████████| 3.4 MB 43.5 MB/s \n",
            "\u001b[?25hRequirement already satisfied: numpy>=1.18.0 in /usr/local/lib/python3.7/dist-packages (from adversarial-robustness-toolbox) (1.19.5)\n",
            "Collecting llvmlite<0.37,>=0.36.0rc1\n",
            "  Downloading llvmlite-0.36.0-cp37-cp37m-manylinux2010_x86_64.whl (25.3 MB)\n",
            "\u001b[K     |████████████████████████████████| 25.3 MB 85 kB/s \n",
            "\u001b[?25hRequirement already satisfied: joblib>=0.11 in /usr/local/lib/python3.7/dist-packages (from scikit-learn<0.24.3,>=0.22.2->adversarial-robustness-toolbox) (1.0.1)\n",
            "Installing collected packages: llvmlite, numba, adversarial-robustness-toolbox\n",
            "  Attempting uninstall: llvmlite\n",
            "    Found existing installation: llvmlite 0.34.0\n",
            "    Uninstalling llvmlite-0.34.0:\n",
            "      Successfully uninstalled llvmlite-0.34.0\n",
            "  Attempting uninstall: numba\n",
            "    Found existing installation: numba 0.51.2\n",
            "    Uninstalling numba-0.51.2:\n",
            "      Successfully uninstalled numba-0.51.2\n",
            "Successfully installed adversarial-robustness-toolbox-1.8.0 llvmlite-0.36.0 numba-0.53.1\n"
          ]
        }
      ]
    },
    {
      "cell_type": "code",
      "metadata": {
        "id": "LtTFhkbNaZiF"
      },
      "source": [
        "from art.utils import load_mnist\n",
        "import numpy as np\n",
        "import torch\n",
        "import torch.nn as nn\n",
        "import torch.nn.functional as F\n",
        "import torch.optim as optim"
      ],
      "execution_count": 3,
      "outputs": []
    },
    {
      "cell_type": "code",
      "metadata": {
        "colab": {
          "base_uri": "https://localhost:8080/"
        },
        "id": "Mawb8Gm0bMpK",
        "outputId": "618164b5-fd93-4b3c-dd66-dce4448839e9"
      },
      "source": [
        "# Set up\n",
        "rand_seed = 978614566\n",
        "np.random.seed(rand_seed)\n",
        "torch.manual_seed(rand_seed)\n",
        "\n",
        "image_width = 28\n",
        "image_height = 28\n",
        "input_shape = image_width * image_height\n",
        "\n",
        "batch_size = 64\n",
        "num_epochs = 15\n",
        "num_labels = 10"
      ],
      "execution_count": 6,
      "outputs": [
        {
          "output_type": "execute_result",
          "data": {
            "text/plain": [
              "<torch._C.Generator at 0x7fabe31b0270>"
            ]
          },
          "metadata": {},
          "execution_count": 6
        }
      ]
    },
    {
      "cell_type": "code",
      "metadata": {
        "id": "pYKWIf5lbiqi"
      },
      "source": [
        " # Load data\n",
        "(\n",
        "  (x_train, y_train),\n",
        "  (x_test, y_test),\n",
        "  min_pixel_value,\n",
        "  max_pixel_value,\n",
        ") = load_mnist()\n",
        "clip_values = {\n",
        "  \"min_pixel_value\": min_pixel_value,\n",
        "  \"max_pixel_value\": max_pixel_value,\n",
        "}\n",
        "\n",
        " # Swap axes to PyTorch's NCHW format\n",
        "x_train = np.swapaxes(x_train, 1, 3).astype(np.float32)\n",
        "x_test = np.swapaxes(x_test, 1, 3).astype(np.float32)"
      ],
      "execution_count": 7,
      "outputs": []
    },
    {
      "cell_type": "code",
      "metadata": {
        "id": "wO79crGufkoE"
      },
      "source": [
        "# Define model\n",
        "class Mnist3LayerLinearModel(nn.Module):\n",
        "  def __init__(self):\n",
        "    super(Mnist3LayerLinearModel, self).__init__()\n",
        "    self.lin_1 = nn.Linear(in_features=784, out_features=128)\n",
        "    self.lin_2 = nn.Linear(in_features=128, out_features=64)\n",
        "    self.lin_3 = nn.Linear(in_features=64, out_features=10)\n",
        "\n",
        "    self.criterion = nn.NLLLoss()\n",
        "    self.optimizer = optim.SGD(self.parameters(), lr=0.003, momentum=0.9) \n",
        "\n",
        "  def forward(self, x):\n",
        "    x = F.relu(self.lin_1(x))\n",
        "    x = F.relu(self.lin_2(x))\n",
        "    x = F.log_softmax(self.lin_3(x), dim=1)\n",
        "    return x  \n",
        "\n",
        "# Make ART classifier\n",
        "classifier = PyTorchClassifier(\n",
        "  model=model,\n",
        "  clip_values=clip_values,\n",
        "  loss=model.criterion,\n",
        "  optimizer=model.optimizer,\n",
        "  input_shape=(input_shape),\n",
        "  nb_classes=num_labels,\n",
        ")\n",
        "\n",
        "# Train classifier\n",
        "  classifier.fit(x, y, batch_size=config.batch_size, nb_epochs=config.num_epochs)"
      ],
      "execution_count": null,
      "outputs": []
    }
  ]
}